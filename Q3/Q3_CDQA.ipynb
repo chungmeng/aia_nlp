{
 "cells": [
  {
   "cell_type": "markdown",
   "id": "d501d74c",
   "metadata": {},
   "source": [
    "## Install CDQA"
   ]
  },
  {
   "cell_type": "code",
   "execution_count": null,
   "id": "d3359566",
   "metadata": {},
   "outputs": [],
   "source": [
    "#! git clone https://github.com/cdqa-suite/cdQA.git\n",
    "#! cd cdQA\n",
    "#! pip install -e ."
   ]
  },
  {
   "cell_type": "code",
   "execution_count": 1,
   "id": "b986857c",
   "metadata": {
    "ExecuteTime": {
     "end_time": "2022-07-26T09:25:58.076505Z",
     "start_time": "2022-07-26T09:25:51.108215Z"
    }
   },
   "outputs": [],
   "source": [
    "from cdqa.pipeline import QAPipelineipeline\n",
    "from cdqa.utils.converters import pdf_converter\n",
    "from cdqa.utils.download import download_model"
   ]
  },
  {
   "cell_type": "code",
   "execution_count": 13,
   "id": "abfcb8bd",
   "metadata": {
    "ExecuteTime": {
     "end_time": "2022-07-26T10:24:48.898896Z",
     "start_time": "2022-07-26T10:24:48.892023Z"
    }
   },
   "outputs": [],
   "source": [
    "import pandas as pd\n",
    "pd.set_option('display.max_colwidth', -1)"
   ]
  },
  {
   "cell_type": "markdown",
   "id": "8ea91857",
   "metadata": {},
   "source": [
    "## Download BERT Model"
   ]
  },
  {
   "cell_type": "code",
   "execution_count": 5,
   "id": "aef6e2f9",
   "metadata": {
    "ExecuteTime": {
     "end_time": "2022-07-26T09:38:20.371590Z",
     "start_time": "2022-07-26T09:27:45.912209Z"
    }
   },
   "outputs": [
    {
     "name": "stdout",
     "output_type": "stream",
     "text": [
      "\n",
      "Downloading trained model...\n",
      "100% [......................................................................] 438037911 / 438037911"
     ]
    }
   ],
   "source": [
    "download_model(model='bert-squad_1.1', dir='./models')"
   ]
  },
  {
   "cell_type": "markdown",
   "id": "1a72f305",
   "metadata": {},
   "source": [
    "## Load PDF"
   ]
  },
  {
   "cell_type": "code",
   "execution_count": 9,
   "id": "52dfc979",
   "metadata": {
    "ExecuteTime": {
     "end_time": "2022-07-26T10:23:07.844085Z",
     "start_time": "2022-07-26T10:23:07.823168Z"
    }
   },
   "outputs": [
    {
     "name": "stdout",
     "output_type": "stream",
     "text": [
      "10\n"
     ]
    }
   ],
   "source": [
    "import PyPDF2\n",
    "\n",
    "pdfFileObj = open('./docs/Q3_PDF.pdf', 'rb')\n",
    "pdfReader = PyPDF2.PdfFileReader(pdfFileObj)\n",
    "  \n",
    "# printing number of pages in pdf file\n",
    "print(pdfReader.numPages)"
   ]
  },
  {
   "cell_type": "code",
   "execution_count": 45,
   "id": "eae87490",
   "metadata": {
    "ExecuteTime": {
     "end_time": "2022-07-26T10:39:52.244782Z",
     "start_time": "2022-07-26T10:39:51.860375Z"
    }
   },
   "outputs": [],
   "source": [
    "all_text=[]\n",
    "for page in range(pdfReader.numPages):\n",
    "    pageObj = pdfReader.getPage(page)\n",
    "  \n",
    "    # extracting text from page\n",
    "    all_text.append(pageObj.extractText().strip().replace('\\n',' '))\n",
    "df=pd.DataFrame({'title' : ['Q3_PDF'], 'paragraphs': [all_text]})"
   ]
  },
  {
   "cell_type": "markdown",
   "id": "9ba3ae01",
   "metadata": {},
   "source": [
    "## Fit Pipeline to PDF File"
   ]
  },
  {
   "cell_type": "code",
   "execution_count": 40,
   "id": "7632fab3",
   "metadata": {
    "ExecuteTime": {
     "end_time": "2022-07-26T10:38:53.237769Z",
     "start_time": "2022-07-26T10:38:49.167271Z"
    }
   },
   "outputs": [],
   "source": [
    "cdqa_pipeline=QAPipeline(reader='./models/bert_qa.joblib', max_df=5)"
   ]
  },
  {
   "cell_type": "code",
   "execution_count": 46,
   "id": "db13788d",
   "metadata": {
    "ExecuteTime": {
     "end_time": "2022-07-26T10:39:57.587619Z",
     "start_time": "2022-07-26T10:39:57.528890Z"
    }
   },
   "outputs": [
    {
     "data": {
      "text/plain": [
       "QAPipeline(reader=BertQA(adam_epsilon=1e-08, bert_model='bert-base-uncased',\n",
       "                         do_lower_case=True, fp16=False,\n",
       "                         gradient_accumulation_steps=1, learning_rate=5e-05,\n",
       "                         local_rank=-1, loss_scale=0, max_answer_length=30,\n",
       "                         n_best_size=20, no_cuda=False,\n",
       "                         null_score_diff_threshold=0.0, num_train_epochs=3.0,\n",
       "                         output_dir=None, predict_batch_size=8, seed=42,\n",
       "                         server_ip='', server_po...ch_size=8,\n",
       "                         verbose_logging=False, version_2_with_negative=False,\n",
       "                         warmup_proportion=0.1, warmup_steps=0),\n",
       "           retrieve_by_doc=False,\n",
       "           retriever=BM25Retriever(b=0.75, floor=None, k1=2.0, lowercase=True,\n",
       "                                   max_df=5, min_df=2, ngram_range=(1, 2),\n",
       "                                   preprocessor=None, stop_words='english',\n",
       "                                   token_pattern='(?u)\\\\b\\\\w\\\\w+\\\\b',\n",
       "                                   tokenizer=None, top_n=20, verbose=False,\n",
       "                                   vocabulary=None))"
      ]
     },
     "execution_count": 46,
     "metadata": {},
     "output_type": "execute_result"
    }
   ],
   "source": [
    "cdqa_pipeline.fit_retriever(df=df)"
   ]
  },
  {
   "cell_type": "markdown",
   "id": "c2e5a055",
   "metadata": {},
   "source": [
    "## Feed Query"
   ]
  },
  {
   "cell_type": "code",
   "execution_count": 55,
   "id": "4770a256",
   "metadata": {
    "ExecuteTime": {
     "end_time": "2022-07-26T10:56:12.454393Z",
     "start_time": "2022-07-26T10:56:12.449791Z"
    }
   },
   "outputs": [],
   "source": [
    "queries=[\n",
    "    'Which virus variants of covid 19 are detected in Malaysia?',\n",
    "    'What is the mean age of patient that Brought In Dead?',\n",
    "    'Which state has the highest number of patients that died in hospital?',\n",
    "    'Why foreigners have higher number of BID than Malaysians?'\n",
    "]\n",
    "answers=[ cdqa_pipeline.predict(query=q) for q in queries ]\n",
    "    "
   ]
  },
  {
   "cell_type": "code",
   "execution_count": 54,
   "id": "fc2c32e2",
   "metadata": {
    "ExecuteTime": {
     "end_time": "2022-07-26T10:55:55.411519Z",
     "start_time": "2022-07-26T10:55:55.389532Z"
    }
   },
   "outputs": [
    {
     "name": "stdout",
     "output_type": "stream",
     "text": [
      "Question 0 : Which virus variants of covid 19 are detected in Malaysia?\n",
      "Answer : Delta and Omicron\n",
      "Question 1 : What is the mean age of patient that Brought In Dead?\n",
      "Answer : 59.59\n",
      "Question 2 : Which state has the highest number of patients that died in hospital?\n",
      "Answer : Sabah\n",
      "Question 3 : Why foreigners have higher number of BID than Malaysians?\n",
      "Answer : they might not be well-educated onCOVID-19 symptoms\n"
     ]
    }
   ],
   "source": [
    "text=''\n",
    "for n, (q,a) in enumerate(zip(queries, answers)):\n",
    "    question=f'Question {n} : {q}\\n'\n",
    "    answer=f'Answer : {a[0]}\\n'\n",
    "    print(question)\n",
    "    print(answer)\n",
    "    text+=question\n",
    "    text+=answer"
   ]
  },
  {
   "cell_type": "markdown",
   "id": "f23b6233",
   "metadata": {
    "ExecuteTime": {
     "end_time": "2022-08-03T06:00:46.261798Z",
     "start_time": "2022-08-03T06:00:42.002109Z"
    }
   },
   "source": [
    "## Save Audio"
   ]
  },
  {
   "cell_type": "code",
   "execution_count": 18,
   "id": "7115eed3",
   "metadata": {
    "ExecuteTime": {
     "end_time": "2022-08-03T05:55:39.341440Z",
     "start_time": "2022-08-03T05:55:39.317677Z"
    }
   },
   "outputs": [],
   "source": [
    "import gtts"
   ]
  },
  {
   "cell_type": "code",
   "execution_count": 24,
   "id": "6036b245",
   "metadata": {
    "ExecuteTime": {
     "end_time": "2022-08-03T06:00:40.928564Z",
     "start_time": "2022-08-03T06:00:40.919112Z"
    }
   },
   "outputs": [],
   "source": [
    "tts = gtts.gTTS(text)\n",
    "tts.save('./audio/query_answer.mp3')"
   ]
  },
  {
   "cell_type": "code",
   "execution_count": 51,
   "id": "d83d7847",
   "metadata": {
    "ExecuteTime": {
     "end_time": "2022-07-26T10:55:05.804490Z",
     "start_time": "2022-07-26T10:55:05.798852Z"
    },
    "scrolled": false
   },
   "outputs": [
    {
     "data": {
      "text/plain": [
       "[('Delta and Omicron',\n",
       "  'Q3_PDF',\n",
       "  '338 Med J Malaysia Vol 77 No 3 May 2022ABSTRACTBackground: Measuring the success of the control ofCOVID-19 in any country includes a review of the mortalityespecially to compare the deaths of those dying in hospitalsand those brought in dead (BID). The objective of this studywas to compare the death groups with the demographicfactors that influenced the type of death.Methods: This was a case-control study (1:1 ratio) looking atCOVID-19 secondary public data from March 2020 toFebruary 2021. Data such as the basic demographic dataand comorbidities were analysed descriptively and thenusing a binary-logistic regression analysis to compare theindependent variables against the outcome of BID. From thedatabase, 120 cases were included as BID (4 excluded dueto insufficient information) and 120 patients from the 1006who passed away in hospital were randomly selected ascomparators. The data was analysed in SPSS v21.0. Results: The mean age for the BID was 59.59 (SD: 18.74),with more males (70.8%) than females (29.2%), of which61.7% were Malaysians, 46.7% from the state of Sabah, and64.2% having at least one co-morbidity (50% of them hadhypertension). A univariate binary logistic regressionanalysis yielded factors such as age, nationality, andpresence of any co-morbidities that are favourable to beincluded into the multivariate analysis. From the finalanalysis, the only factor that distinguished the BID fromthose dying in the hospital was being a foreigner (AOR: 4.32[95%CI: 2.02–9.24], p<0.001). Conclusions: This concluded that foreigners in Malaysiawere likely to die from COVID-19 outside of the hospitalcompared to Malaysians. Amongst the reasons that neededto be addressed were cost, accessibility issues regardingmedical care, and the testing policies in Malaysia.NMRR Publication Approval Number: NMRR-21-962-60004KEYWORDS: COVID-19, BID, foreigner deaths, pandemicINTRODUCTIONIn 2019, the Hubei province in China had reported severalcases characterised by pneumonia and respiratory failurecaused by a fatal unknown virus. This was later successfullyisolated and termed the novel coronavirus and later dubbedas SARS-CoV-2. 1The virus originates from the coronavirusesof the Coronaviridae family in the Nidovirales order and isknown to have a single-stranded RNA.2Being from the list of coronaviruses, there has been much debate and controversyabout the origins of the virus – it is now accepted that thevirus originated as a zoonotic virus that found its way intoinfecting humans (human-to-human) through dropletspread. 2Since that discovery, the virus has mutated multipletimes causing different variants. Though the spread andmitigation of the virus remains the same, the transmissibilityand infectiousness of each variant differs, with the Omicron(B.1.1.529), Delta (B.1.617.2), and Beta (B.1.351) strainsdubbed collectively as the variants of concern. 3,4COVID-19 can affect the infected population with several severities,from being asymptomatic to having full-blown respiratoryfailure needing ventilation. 5The ultimate acute complications that are faced include ventilator -relatedmedical issues and death. 5Deaths however can occur in two instances: one that occurs in hospitals after all medicalinterventions/diagnostics have been done and the otheroccurring before the patient can be given medical attention,largely termed as ‘brought in dead’ (BID), and this sometimesis used interchangeably with the term ‘dead on arrival’. 6,7 Part of the issues in some countries, especially very early on in thepandemic, were the number of BID that occurred perhaps dueto COVID-19. 6  Malaysia, a country situated in the region of South East Asiawith a population of 32 million consisting of Malays,Chinese, Indians, Indigenous population, and foreigners, is acountry that has also been affected by COVID-19. The firstdocumented case of COVID-19 in Malaysia was recorded on25 January 2020 that was traced back to three Chinesemainland national citizens who were infected whilst being inSingapore. 8The first Malaysian to have had contractedCOVID-19 happened on 4 February 2020 who had claimed tohave contracted it from Singapore. 8 Malaysia has already seen five waves of COVID-19 cases withthe biggest coming with the Delta and Omicron variants. Thedeaths however differed in both waves due to the presence ofbetter vaccination rates during the Omicron phase. Until thetime of the data collection period (28 February 2021), thecountry had seen 300,752 cases with the recovery being at273,417 (90.91%), 6.2 million tests performed and 1,130deaths already witnessed (case fatality rate: 0.38%). 9From these 1,130 deaths, they were broadly categorised into twocategories: those dying after receiving treatment and thosewho were BID and were found to have had COVID-19 afterbeing tested (post-mortem). Comparison of the COVID-19 mortality occurring inhospitals and those brought in dead within Malaysia Arvinder-Singh HS, MSc Health Research (RCSI, Ir)Pusat Perubatan Universiti Kebangsaan MalaysiaORIGINAL ARTICLE   This article was accepted: 27 April 2022Corresponding Author: Arvinder-Singh HSEmail: arvinder.crc@gmail.com10-Comparison00080_3-PRIMARY.qxd  31/05/2022  9:55 AM  Page 338',\n",
       "  8.88608655843459),\n",
       " ('59.59',\n",
       "  'Q3_PDF',\n",
       "  'Original Article  340 Med J Malaysia Vol 77 No 3 May 2022official reporting portals (sources 1 and 2) were incomplete.After the exclusion, a total of 120 (96.77%) of the 124 wereincluded into the final analysis. The author then randomly selected 120 patients (accountingfor 10.62% of the total 1130 deaths) who had died in thehospital settings due to COVID-19. From the 1006 patientswho died in hospital during the stipulated time, the authorassigned an individual number to each patient following thesequence of deaths according to the date of death. The authorthen used the EpiCalc 2000 (v1.01) to select 120 randomnumbers from the possible 1006 to be included in the studyas a comparator. These selected numbers were inspected, andall the initial selected 120 numbers were included ascomparators after affirming that the data of these patientswere complete. The data was selected and included in aMicrosoft Excel file containing the BID cases previouslyentered. Once the data was cleaned and standardised, it wasimported into SPSS v21.0 for the final analysis.Ethics approvalEthics approval was obtained from the National MedicalResearch Registry and the Malaysian Research EthicsCommittee (NMRR-21-962-60004). There were no identifiersas data obtained and used were secondary data alreadyanonymised by the provider. Mode of analysisData were analysed and provided as numbers/percentages(for categorical data) and mean/median with standarddeviation/inter-quartile range for continuous variables. Thecontinuous variables that were normally distributed (eachskewness was between -1/+1 and Kurtosis between -3/+3)were reported as mean (standard deviation). The variablesthat were not normally distributed were reported as median(inter-quartile range). For the logistic regression, pvalues ≤0.3 for the univariate regression were considered significantand included for the multivariate analysis. For themultivariate analysis and all other statistical tests (otherthan the univariate analysis), pvalues of <0.05 was considered statistically significant. To see if both groups werehomogenous, we used the presence of comorbidities as acomparative baseline. This was done because during the timeof data collection, the ministry had always suggested that thepresence of comorbidities made a difference betweenrecovering from COVID-19 or succumbing to it. 13  RESULTSDemography The demographic characteristics of the people who were BIDand those who were randomly selected that died in hospitalare listed in Table I. The comparative baseline of havingcomorbidities was done via a chi-square, which showed nostatistical significance between the two groups (p=0.06), thusmaking the groups comparable (the breakdown of eachcomorbidity compared was also not significant at p=0.68).The mean age for the BID group was 59.59 (SD: 18.74) yearsand for those who died in hospitals was 64.33 (16.00) years.In both groups, there were more males than females. Therewere also more Malaysians than foreigners (p<0.001) andmany deaths happening in the state of Sabah (p=0.04), all ofwhich when compared were statistically significant. Most ofthe co-morbidities present were similar, with hypertensionbeing the most common (50.0% in the BID group and 55.8%in the hospital group), followed by diabetes (29.2% in the BIDgroup and 48.3% in the hospital group) and chronic kidneydisease (12.5% in the BID group and 23.3% in the hospitalgroup).A statistical analysis was also conducted to see if thedemographics varied between the two groups. Conducting anindependent t-test analysis yielded a statistically significantdifference (p=0.03), which showed that the two groups wereindeed different from each other, with the BID being moreprone to die at an early age from COVID-19 compared tothose who died in hospitals. There was also a significantdifference amongst the nationalities of those who passedaway. A chi-square test showed that there was a statisticallysignificant difference amongst the nationalities (p<0.001).This was because there was a larger proportion of foreignerswho were BID compared to those who died in the hospital.The median time from the time of admission to the time ofdeath amongst those who passed away in hospitals was 5days (IQR: 12.25).Advance analysisBinary logistic regression analysis comparing the BID patients withthe patients who died in hospitalGoodness-of-fit modelThe researcher decided to perform a binary logistic regressionanalysis to compare the basic demographic variables whencomparing the outcome of being BID or patients dying inhospitals. The researchers first ran a ‘goodness-of-fit’ Hosmerand Lemeshow modelling for the data, which yielded onlythe categorical variables with p= 0.76 and a goodness of fit amounting to 67.9%. The researcher also ran the goodness offit via the Nagelkerke R2, which yielded 20.7% or 79.3% fit.All variables were left in the original categorical form exceptfor the age variable that was analysed as a continuousvariable.Univariate analysisThe researcher then proceeded with a univariate analysis,which was conducted to compare variables such as age,gender, nationality, states where the death occurred, and co-morbidities (all of which underwent an interaction check andthere were no interactions with the data). The outcome wasthe comparison of the BID (numerator) with the patientsdying in hospital (denominator). The univariate analysisconducted used the variables that yielded a p≤0.3 to beincluded for the multivariate analysis. From the univariateanalysis, it was found that age (OR: 0.98, 95% CI: 0.97–0.99),gender (male having the OR: 1.51, 95% CI: 0.88–2.58),nationality (foreigners having an OR of 5.12, 95% CI:2.58–10.13), those without any co-morbidities (OR 1.92, 95%CI: 1.09–3.40), those with co-morbidities includinghypertension (OR: 1.40, 95%CI: 0.84–2.32), diabetes mellitus(OR: 2.27, 95%CI: 1.33–3.87), chronic kidney disease (OR:2.13, 95%CI: 1.07–4.23), ischemic heart disease (OR: 2.47,95%CI: 1.07–5.67), chronic lung disease (OR: 2.42, 95%CI:0.61–9.57), and those who are immunocompromised or withsome oncological disorders (OR: 4.10, 95%CI: 0.45–37.26)10-Comparison00080_3-PRIMARY.qxd  31/05/2022  9:55 AM  Page 340',\n",
       "  9.509562544438122),\n",
       " ('Sabah',\n",
       "  'Q3_PDF',\n",
       "  'Original Article  340 Med J Malaysia Vol 77 No 3 May 2022official reporting portals (sources 1 and 2) were incomplete.After the exclusion, a total of 120 (96.77%) of the 124 wereincluded into the final analysis. The author then randomly selected 120 patients (accountingfor 10.62% of the total 1130 deaths) who had died in thehospital settings due to COVID-19. From the 1006 patientswho died in hospital during the stipulated time, the authorassigned an individual number to each patient following thesequence of deaths according to the date of death. The authorthen used the EpiCalc 2000 (v1.01) to select 120 randomnumbers from the possible 1006 to be included in the studyas a comparator. These selected numbers were inspected, andall the initial selected 120 numbers were included ascomparators after affirming that the data of these patientswere complete. The data was selected and included in aMicrosoft Excel file containing the BID cases previouslyentered. Once the data was cleaned and standardised, it wasimported into SPSS v21.0 for the final analysis.Ethics approvalEthics approval was obtained from the National MedicalResearch Registry and the Malaysian Research EthicsCommittee (NMRR-21-962-60004). There were no identifiersas data obtained and used were secondary data alreadyanonymised by the provider. Mode of analysisData were analysed and provided as numbers/percentages(for categorical data) and mean/median with standarddeviation/inter-quartile range for continuous variables. Thecontinuous variables that were normally distributed (eachskewness was between -1/+1 and Kurtosis between -3/+3)were reported as mean (standard deviation). The variablesthat were not normally distributed were reported as median(inter-quartile range). For the logistic regression, pvalues ≤0.3 for the univariate regression were considered significantand included for the multivariate analysis. For themultivariate analysis and all other statistical tests (otherthan the univariate analysis), pvalues of <0.05 was considered statistically significant. To see if both groups werehomogenous, we used the presence of comorbidities as acomparative baseline. This was done because during the timeof data collection, the ministry had always suggested that thepresence of comorbidities made a difference betweenrecovering from COVID-19 or succumbing to it. 13  RESULTSDemography The demographic characteristics of the people who were BIDand those who were randomly selected that died in hospitalare listed in Table I. The comparative baseline of havingcomorbidities was done via a chi-square, which showed nostatistical significance between the two groups (p=0.06), thusmaking the groups comparable (the breakdown of eachcomorbidity compared was also not significant at p=0.68).The mean age for the BID group was 59.59 (SD: 18.74) yearsand for those who died in hospitals was 64.33 (16.00) years.In both groups, there were more males than females. Therewere also more Malaysians than foreigners (p<0.001) andmany deaths happening in the state of Sabah (p=0.04), all ofwhich when compared were statistically significant. Most ofthe co-morbidities present were similar, with hypertensionbeing the most common (50.0% in the BID group and 55.8%in the hospital group), followed by diabetes (29.2% in the BIDgroup and 48.3% in the hospital group) and chronic kidneydisease (12.5% in the BID group and 23.3% in the hospitalgroup).A statistical analysis was also conducted to see if thedemographics varied between the two groups. Conducting anindependent t-test analysis yielded a statistically significantdifference (p=0.03), which showed that the two groups wereindeed different from each other, with the BID being moreprone to die at an early age from COVID-19 compared tothose who died in hospitals. There was also a significantdifference amongst the nationalities of those who passedaway. A chi-square test showed that there was a statisticallysignificant difference amongst the nationalities (p<0.001).This was because there was a larger proportion of foreignerswho were BID compared to those who died in the hospital.The median time from the time of admission to the time ofdeath amongst those who passed away in hospitals was 5days (IQR: 12.25).Advance analysisBinary logistic regression analysis comparing the BID patients withthe patients who died in hospitalGoodness-of-fit modelThe researcher decided to perform a binary logistic regressionanalysis to compare the basic demographic variables whencomparing the outcome of being BID or patients dying inhospitals. The researchers first ran a ‘goodness-of-fit’ Hosmerand Lemeshow modelling for the data, which yielded onlythe categorical variables with p= 0.76 and a goodness of fit amounting to 67.9%. The researcher also ran the goodness offit via the Nagelkerke R2, which yielded 20.7% or 79.3% fit.All variables were left in the original categorical form exceptfor the age variable that was analysed as a continuousvariable.Univariate analysisThe researcher then proceeded with a univariate analysis,which was conducted to compare variables such as age,gender, nationality, states where the death occurred, and co-morbidities (all of which underwent an interaction check andthere were no interactions with the data). The outcome wasthe comparison of the BID (numerator) with the patientsdying in hospital (denominator). The univariate analysisconducted used the variables that yielded a p≤0.3 to beincluded for the multivariate analysis. From the univariateanalysis, it was found that age (OR: 0.98, 95% CI: 0.97–0.99),gender (male having the OR: 1.51, 95% CI: 0.88–2.58),nationality (foreigners having an OR of 5.12, 95% CI:2.58–10.13), those without any co-morbidities (OR 1.92, 95%CI: 1.09–3.40), those with co-morbidities includinghypertension (OR: 1.40, 95%CI: 0.84–2.32), diabetes mellitus(OR: 2.27, 95%CI: 1.33–3.87), chronic kidney disease (OR:2.13, 95%CI: 1.07–4.23), ischemic heart disease (OR: 2.47,95%CI: 1.07–5.67), chronic lung disease (OR: 2.42, 95%CI:0.61–9.57), and those who are immunocompromised or withsome oncological disorders (OR: 4.10, 95%CI: 0.45–37.26)10-Comparison00080_3-PRIMARY.qxd  31/05/2022  9:55 AM  Page 340',\n",
       "  7.322980023021237),\n",
       " ('they might not be well-educated onCOVID-19 symptoms',\n",
       "  'Q3_PDF',\n",
       "  'Comparison of the COVID-19 mortality occurring in hospitals and those brought in dead within Malaysia Med J Malaysia Vol 77 No 3 May 2022 343Summary of FindingsForeigners were 4.32 times (95% CI: 2.02–9.24) more likely todie by being BID than dying in hospitals compared toMalaysians. In this study, the multivariate binary logisticregression showed that being a foreigner was the only factorthat determined if  a COVID-19 patient was to be BID or diein hospital (p<0.001).DISCUSSIONFrom this study, it was found that the only factor thatdetermined if a COVID-19 patient was BID or died in hospitalwas the fact of nationality. This has given a rise to thehealthcare of foreign workers in Malaysia– a topic that hasalways been a debate in Malaysia.The literature search revealed that there were only two paperspublished on BID concerning COVID-19 in Zambia andanother in the United States. The Zambian paper reportedthat as high as 72.5% of the COVID-19 deaths were occurringwithin the community and were likely to be BID, which wasmuch higher than the 10.97% cases that were BID inMalaysia.6The Zambian study implied that not only wereBID a concern for public health safety of the people, but theymade contact tracing of COVID-19 much more difficult. 6 Amongst the reasons cited for a potential cause of the BIDwas the poor \"healthcare seeking behaviour\" among thepopulation, a lack of knowledge about COVID-19 and itsseverity along with the reported high proportion of recoveries,perception of illness, stigma associated with the disease, andmedication being readily made available over the counter. 6,14 The U.S. study showed that the range of BID were9.8%–38.9%. 12They also found that the younger age groupwere likely to be BID compared to the older group. 12  Although there has been limited literature published aboutBID with regards to COVID-19, there were a few paperspublished on different subject matters with relation to BID.From a paper published in 2016 concerning maternal deaths,amongst the reasons cited for BID reported were that 56.25%of patients were guilty of a delay in seeking proper medicalattention. 15Data for the exact reasons for the BID due toCOVID-19 in Malaysia were not made available in thecurrent study. In another paper, where BID were assessed in astate in India, it was reported that many BID were due to thefact of unexpected deaths especially in the 21- to 30-year-oldage group, which however was attributed to physical factorslike motor vehicle accidents and social activities. 16In the current study, the mean age group of the BID differed at59.59 (SD: 18.74) compared to the study done in India. Thestudy in Zambia did not report any age groups that were BIDdue to COVID-19. 6  In this current research, the researcher found that foreignerswere prone to be BID compared to Malaysians. Some of thepossible reasons were explored. In a qualitative paperpublished in 2019 regarding foreign worker\\'s healthcare inMalaysia, it was reported that healthcare services inMalaysia (private or public) has become rather inaccessibleto migrant workers. 17Some of the factors that have beenidentified were complex access barriers that were mainlyrelated to matters beyond the control of the healthcare sector– including financial constraints, legality issues concerningdocumentation, language barriers, discrimination/xenophobia, and employer-related barriers.17Amongst the things that were suggested in the paper to overcome thesebarriers was to ensure that the government has a compulsoryhealthcare worker insurance cover so that foreign workers areable to attain healthcare services especially in the times ofemergency. 17In another paper published in 2020 by the sameauthor, it was reported that migrant health policies atdestination countries (China and Malaysia) werepredominantly protectionist, concerned with thetransmission of communicable diseases (such as tuberculosisand blood-borne diseases) and diseases that might burdenthe health systems. 18Another point of concern was there werereports of instances where migrant workers intending torenew their permits failed their medical examination andended up overstaying as undocumented workers. 18This, in a way, has caused them to refrain from getting medicalattention during the time of illness to avoid being deported,thus causing them to present to healthcare facilities at adelayed and at dire stages. 18 Another reason for delayed medical care attention towardsforeign workers was due to the fact that foreigners were liableto higher payments when seeking medical care in the publichealthcare sector. 19,20Due to high costs that are incurred inthe public sector, the foreigners are more likely to seek privatehealthcare services especially in primary care. 20,21There was also a disparity of healthcare access based on the place ofstay of these foreign workers. 21As it is known in Malaysia, there was a delay in allowing the private healthcare servicesto screen for COVID-19, not forgetting the constant voicing ofthe private sector mentioning that they were not prepared toreceive/treat COVID-19 patients. 22All of these might have contributed to foreigners being BID. Another possible reason that foreigners might be prone toBID is due to the fact that they might not be well-educated onCOVID-19 symptoms. A study done in Malaysia showed thatMalaysians had good knowledge, attitude, and practice whenit came to COVID-19 but this study excluded foreigners. 23 However, from a report written in 2020, it can be summarisedthat the understanding of COVID-19 especially anexplanation in the native language of foreigners is vital todisseminate vital public information for prevention. 24 In this research, we report that many patients that were BIDwere younger than those dying in hospitals.  This possiblythrows doubt to the concept of some theories that mightconsider younger patients to be less risky in succumbing toCOVID-19. However, it must be also considered that thepresences of co-morbidities might be an influencing factorthat determines whether the COVID-19 infection could to besevere or not. 25In our latest published National Health andMorbidity Survey of 2019, it was reported that many co-morbidities (that were linked to COVID-19 severity) wererather hidden within the community especially diabetes andhypertension (both individually, nearly half of the nationalprevalence especially among young adults remain silent andunknown). 26 Additionally, the fact that the prevalence ofobesity is high in Malaysia could also be a contributing factorto these deaths, 27which could also be another factor why10-Comparison00080_3-PRIMARY.qxd  31/05/2022  9:55 AM  Page 343',\n",
       "  7.561101865768433)]"
      ]
     },
     "execution_count": 51,
     "metadata": {},
     "output_type": "execute_result"
    }
   ],
   "source": [
    "answers"
   ]
  }
 ],
 "metadata": {
  "kernelspec": {
   "display_name": "Python 3 (ipykernel)",
   "language": "python",
   "name": "python3"
  },
  "language_info": {
   "codemirror_mode": {
    "name": "ipython",
    "version": 3
   },
   "file_extension": ".py",
   "mimetype": "text/x-python",
   "name": "python",
   "nbconvert_exporter": "python",
   "pygments_lexer": "ipython3",
   "version": "3.7.3"
  }
 },
 "nbformat": 4,
 "nbformat_minor": 5
}
