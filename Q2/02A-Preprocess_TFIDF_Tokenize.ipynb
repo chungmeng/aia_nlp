{
 "cells": [
  {
   "cell_type": "code",
   "execution_count": 1,
   "id": "5a5c8435",
   "metadata": {
    "ExecuteTime": {
     "end_time": "2022-08-01T15:11:28.682556Z",
     "start_time": "2022-08-01T15:11:28.050868Z"
    }
   },
   "outputs": [],
   "source": [
    "import pandas as pd"
   ]
  },
  {
   "cell_type": "code",
   "execution_count": 2,
   "id": "52bbf43b",
   "metadata": {
    "ExecuteTime": {
     "end_time": "2022-08-01T15:11:29.046485Z",
     "start_time": "2022-08-01T15:11:29.022000Z"
    }
   },
   "outputs": [],
   "source": [
    "%load_ext autoreload\n",
    "%autoreload 2"
   ]
  },
  {
   "cell_type": "code",
   "execution_count": 3,
   "id": "263f280f",
   "metadata": {
    "ExecuteTime": {
     "end_time": "2022-08-01T15:11:30.592589Z",
     "start_time": "2022-08-01T15:11:29.446492Z"
    }
   },
   "outputs": [
    {
     "data": {
      "text/html": [
       "<div>\n",
       "<style scoped>\n",
       "    .dataframe tbody tr th:only-of-type {\n",
       "        vertical-align: middle;\n",
       "    }\n",
       "\n",
       "    .dataframe tbody tr th {\n",
       "        vertical-align: top;\n",
       "    }\n",
       "\n",
       "    .dataframe thead th {\n",
       "        text-align: right;\n",
       "    }\n",
       "</style>\n",
       "<table border=\"1\" class=\"dataframe\">\n",
       "  <thead>\n",
       "    <tr style=\"text-align: right;\">\n",
       "      <th></th>\n",
       "      <th>tweet_text</th>\n",
       "      <th>topic</th>\n",
       "      <th>label</th>\n",
       "    </tr>\n",
       "  </thead>\n",
       "  <tbody>\n",
       "    <tr>\n",
       "      <th>0</th>\n",
       "      <td>Ebola is not going to come close to you  your ...</td>\n",
       "      <td>other_useful_information</td>\n",
       "      <td>6</td>\n",
       "    </tr>\n",
       "    <tr>\n",
       "      <th>1</th>\n",
       "      <td>It is too funny to watch MSNBC put an infectio...</td>\n",
       "      <td>treatment</td>\n",
       "      <td>3</td>\n",
       "    </tr>\n",
       "    <tr>\n",
       "      <th>2</th>\n",
       "      <td>How the  GOP fights infectious disease   Ebola</td>\n",
       "      <td>other_useful_information</td>\n",
       "      <td>6</td>\n",
       "    </tr>\n",
       "    <tr>\n",
       "      <th>3</th>\n",
       "      <td>it is all about spin  Guaranteed though questi...</td>\n",
       "      <td>other_useful_information</td>\n",
       "      <td>6</td>\n",
       "    </tr>\n",
       "    <tr>\n",
       "      <th>4</th>\n",
       "      <td>WHO officially declares that  Senegal has ende...</td>\n",
       "      <td>disease_transmission</td>\n",
       "      <td>1</td>\n",
       "    </tr>\n",
       "  </tbody>\n",
       "</table>\n",
       "</div>"
      ],
      "text/plain": [
       "                                          tweet_text  \\\n",
       "0  Ebola is not going to come close to you  your ...   \n",
       "1  It is too funny to watch MSNBC put an infectio...   \n",
       "2     How the  GOP fights infectious disease   Ebola   \n",
       "3  it is all about spin  Guaranteed though questi...   \n",
       "4  WHO officially declares that  Senegal has ende...   \n",
       "\n",
       "                      topic  label  \n",
       "0  other_useful_information      6  \n",
       "1                 treatment      3  \n",
       "2  other_useful_information      6  \n",
       "3  other_useful_information      6  \n",
       "4      disease_transmission      1  "
      ]
     },
     "execution_count": 3,
     "metadata": {},
     "output_type": "execute_result"
    }
   ],
   "source": [
    "df=pd.read_json('./dataset/Q2_Dataset.cleaned-general.json')\n",
    "df.head()"
   ]
  },
  {
   "cell_type": "code",
   "execution_count": 5,
   "id": "c2a4c04b",
   "metadata": {
    "ExecuteTime": {
     "end_time": "2022-08-01T15:11:45.325464Z",
     "start_time": "2022-08-01T15:11:45.290174Z"
    }
   },
   "outputs": [],
   "source": [
    "import nltk\n",
    "from nltk.corpus import stopwords\n",
    "from nltk.stem import PorterStemmer\n",
    "import re\n",
    "\n",
    "nltk.download('stopwords')\n",
    "stemmer = PorterStemmer()\n",
    "words = stopwords.words(\"english\")\n",
    "df['tweet_text'] = df['tweet_text'].apply(lambda x: \" \".join([stemmer.stem(i) for i in x.lower().split() if i not in words]))"
   ]
  },
  {
   "cell_type": "code",
   "execution_count": 6,
   "id": "c0dedf62",
   "metadata": {
    "ExecuteTime": {
     "end_time": "2022-08-01T15:11:50.101877Z",
     "start_time": "2022-08-01T15:11:50.063774Z"
    }
   },
   "outputs": [
    {
     "data": {
      "text/html": [
       "<div>\n",
       "<style scoped>\n",
       "    .dataframe tbody tr th:only-of-type {\n",
       "        vertical-align: middle;\n",
       "    }\n",
       "\n",
       "    .dataframe tbody tr th {\n",
       "        vertical-align: top;\n",
       "    }\n",
       "\n",
       "    .dataframe thead th {\n",
       "        text-align: right;\n",
       "    }\n",
       "</style>\n",
       "<table border=\"1\" class=\"dataframe\">\n",
       "  <thead>\n",
       "    <tr style=\"text-align: right;\">\n",
       "      <th></th>\n",
       "      <th>tweet_text</th>\n",
       "      <th>topic</th>\n",
       "      <th>label</th>\n",
       "    </tr>\n",
       "  </thead>\n",
       "  <tbody>\n",
       "    <tr>\n",
       "      <th>0</th>\n",
       "      <td>ebola go come close friend famili member ijn c...</td>\n",
       "      <td>other_useful_information</td>\n",
       "      <td>6</td>\n",
       "    </tr>\n",
       "    <tr>\n",
       "      <th>1</th>\n",
       "      <td>funni watch msnbc put infecti diseas split scr...</td>\n",
       "      <td>treatment</td>\n",
       "      <td>3</td>\n",
       "    </tr>\n",
       "    <tr>\n",
       "      <th>2</th>\n",
       "      <td>gop fight infecti diseas ebola</td>\n",
       "      <td>other_useful_information</td>\n",
       "      <td>6</td>\n",
       "    </tr>\n",
       "    <tr>\n",
       "      <th>3</th>\n",
       "      <td>spin guarante though question rais role post e...</td>\n",
       "      <td>other_useful_information</td>\n",
       "      <td>6</td>\n",
       "    </tr>\n",
       "    <tr>\n",
       "      <th>4</th>\n",
       "      <td>offici declar seneg end ebola transmiss within...</td>\n",
       "      <td>disease_transmission</td>\n",
       "      <td>1</td>\n",
       "    </tr>\n",
       "  </tbody>\n",
       "</table>\n",
       "</div>"
      ],
      "text/plain": [
       "                                          tweet_text  \\\n",
       "0  ebola go come close friend famili member ijn c...   \n",
       "1  funni watch msnbc put infecti diseas split scr...   \n",
       "2                     gop fight infecti diseas ebola   \n",
       "3  spin guarante though question rais role post e...   \n",
       "4  offici declar seneg end ebola transmiss within...   \n",
       "\n",
       "                      topic  label  \n",
       "0  other_useful_information      6  \n",
       "1                 treatment      3  \n",
       "2  other_useful_information      6  \n",
       "3  other_useful_information      6  \n",
       "4      disease_transmission      1  "
      ]
     },
     "execution_count": 6,
     "metadata": {},
     "output_type": "execute_result"
    }
   ],
   "source": [
    "df.head()"
   ]
  },
  {
   "cell_type": "code",
   "execution_count": 7,
   "id": "c6e565ca",
   "metadata": {
    "ExecuteTime": {
     "end_time": "2022-08-01T15:11:58.445885Z",
     "start_time": "2022-08-01T15:11:57.792693Z"
    }
   },
   "outputs": [
    {
     "data": {
      "text/plain": [
       "(9319, 6912)"
      ]
     },
     "execution_count": 7,
     "metadata": {},
     "output_type": "execute_result"
    }
   ],
   "source": [
    "from sklearn.feature_extraction.text import TfidfVectorizer\n",
    "from sklearn.pipeline import Pipeline\n",
    "\n",
    "vectorizer = TfidfVectorizer(min_df=3, stop_words=\"english\", sublinear_tf=True, norm='l2', ngram_range=(1, 2))\n",
    "final_features = vectorizer.fit_transform(df['tweet_text']).toarray()\n",
    "final_features.shape"
   ]
  },
  {
   "cell_type": "markdown",
   "id": "ea3b7f4c",
   "metadata": {},
   "source": [
    "## Save Train Test Set"
   ]
  },
  {
   "cell_type": "code",
   "execution_count": 8,
   "id": "022b10e5",
   "metadata": {
    "ExecuteTime": {
     "end_time": "2022-08-01T15:12:03.980867Z",
     "start_time": "2022-08-01T15:12:03.942943Z"
    }
   },
   "outputs": [
    {
     "name": "stdout",
     "output_type": "stream",
     "text": [
      "INFO : Train size 6989\n",
      "INFO : Test size 2330\n"
     ]
    }
   ],
   "source": [
    "from sklearn.model_selection import train_test_split\n",
    "\n",
    "df_train, df_test = train_test_split(df, test_size=0.25)\n",
    "\n",
    "print(f'INFO : Train size {df_train.shape[0]}')\n",
    "print(f'INFO : Test size {df_test.shape[0]}')"
   ]
  },
  {
   "cell_type": "code",
   "execution_count": 9,
   "id": "a9f51bdf",
   "metadata": {
    "ExecuteTime": {
     "end_time": "2022-08-01T15:12:06.365608Z",
     "start_time": "2022-08-01T15:12:06.315532Z"
    }
   },
   "outputs": [],
   "source": [
    "df_train.to_json('./dataset/df_train.tokenized.json')\n",
    "df_test.to_json('./dataset/df_test.tokenized.json')"
   ]
  },
  {
   "cell_type": "markdown",
   "id": "080b7333",
   "metadata": {},
   "source": [
    "## Save Vectorizer"
   ]
  },
  {
   "cell_type": "code",
   "execution_count": 10,
   "id": "56987ae1",
   "metadata": {
    "ExecuteTime": {
     "end_time": "2022-08-01T15:12:12.115257Z",
     "start_time": "2022-08-01T15:12:12.058738Z"
    }
   },
   "outputs": [],
   "source": [
    "from helper.pickle_utils import save_pickle, load_pickle"
   ]
  },
  {
   "cell_type": "code",
   "execution_count": 11,
   "id": "4aa70ccf",
   "metadata": {
    "ExecuteTime": {
     "end_time": "2022-08-01T15:12:12.932395Z",
     "start_time": "2022-08-01T15:12:12.848328Z"
    }
   },
   "outputs": [
    {
     "name": "stdout",
     "output_type": "stream",
     "text": [
      "Pickled object to ./model/tfidf_vectorizer.pkl\n"
     ]
    }
   ],
   "source": [
    "save_pickle(vectorizer, './model/tfidf_vectorizer.pkl')"
   ]
  },
  {
   "cell_type": "code",
   "execution_count": null,
   "id": "34115813",
   "metadata": {},
   "outputs": [],
   "source": []
  }
 ],
 "metadata": {
  "kernelspec": {
   "display_name": "Python 3 (ipykernel)",
   "language": "python",
   "name": "python3"
  },
  "language_info": {
   "codemirror_mode": {
    "name": "ipython",
    "version": 3
   },
   "file_extension": ".py",
   "mimetype": "text/x-python",
   "name": "python",
   "nbconvert_exporter": "python",
   "pygments_lexer": "ipython3",
   "version": "3.7.3"
  }
 },
 "nbformat": 4,
 "nbformat_minor": 5
}
